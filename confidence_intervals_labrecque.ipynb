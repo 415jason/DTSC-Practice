{
 "cells": [
  {
   "cell_type": "code",
   "execution_count": 1,
   "metadata": {},
   "outputs": [],
   "source": [
    "import numpy as np\n",
    "import scipy.stats as stats\n",
    "import matplotlib.pyplot as plt\n",
    "import pandas as pd"
   ]
  },
  {
   "cell_type": "code",
   "execution_count": 2,
   "metadata": {},
   "outputs": [],
   "source": [
    "data = [45, 55, 50, 52, 48, 53, 49, 54, 51, 47]"
   ]
  },
  {
   "cell_type": "code",
   "execution_count": 7,
   "metadata": {},
   "outputs": [
    {
     "data": {
      "text/plain": [
       "{'Sample Mean': 50.4,\n",
       " 't-Distribution CI': (48.107879185069535, 52.69212081493046),\n",
       " 'Bootstrapping CI': (48.5, 52.2)}"
      ]
     },
     "execution_count": 7,
     "metadata": {},
     "output_type": "execute_result"
    }
   ],
   "source": [
    "n = len(data)\n",
    "mean = float(np.mean(data))\n",
    "std_dev = np.std(data, ddof=1)  # Sample standard deviation (ddof=1)\n",
    "confidence = 0.95\n",
    "df = n - 1  # Degrees of freedom\n",
    "\n",
    "# t-distribution confidence interval\n",
    "t_lower_bound, t_upper_bound = stats.t.interval(confidence, df, loc=mean, scale=std_dev / np.sqrt(n))\n",
    "t_lower_bound = float(t_lower_bound)\n",
    "t_upper_bound = float(t_upper_bound)\n",
    "\n",
    "# Bootstrapping confidence interval\n",
    "np.random.seed(42)  # For reproducibility\n",
    "bootstrap_result = stats.bootstrap((data,), np.mean, confidence_level=0.95, method='percentile')\n",
    "boot_lower_bound, boot_upper_bound = float(bootstrap_result.confidence_interval.low), float(bootstrap_result.confidence_interval.high)\n",
    "\n",
    "results= { \"Sample Mean\": mean, \"t-Distribution CI\": (t_lower_bound, t_upper_bound),\n",
    "        \"Bootstrapping CI\": (boot_lower_bound, boot_upper_bound),\n",
    "    }\n",
    "results"
   ]
  }
 ],
 "metadata": {
  "kernelspec": {
   "display_name": "Python 3",
   "language": "python",
   "name": "python3"
  },
  "language_info": {
   "codemirror_mode": {
    "name": "ipython",
    "version": 3
   },
   "file_extension": ".py",
   "mimetype": "text/x-python",
   "name": "python",
   "nbconvert_exporter": "python",
   "pygments_lexer": "ipython3",
   "version": "3.13.1"
  }
 },
 "nbformat": 4,
 "nbformat_minor": 2
}
