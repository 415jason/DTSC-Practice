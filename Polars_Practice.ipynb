{
 "cells": [
  {
   "cell_type": "code",
   "execution_count": 343,
   "id": "777a8021",
   "metadata": {},
   "outputs": [],
   "source": [
    "import pandas as pd\n",
    "import polars as pl\n",
    "import numpy as np\n",
    "import time\n",
    "import os\n",
    "import urllib.request"
   ]
  },
  {
   "cell_type": "code",
   "execution_count": 344,
   "id": "f40b4c18",
   "metadata": {},
   "outputs": [],
   "source": [
    "# Create synthetic data\n",
    "n_rows = 10_000_000\n",
    "data = {\n",
    "    \"id\": np.arange(n_rows),\n",
    "    \"value1\": np.random.rand(n_rows),\n",
    "    \"value2\": np.random.rand(n_rows),\n",
    "}"
   ]
  },
  {
   "cell_type": "code",
   "execution_count": 345,
   "id": "3376c134",
   "metadata": {},
   "outputs": [
    {
     "name": "stdout",
     "output_type": "stream",
     "text": [
      "Pandas time: 0.11 seconds\n"
     ]
    }
   ],
   "source": [
    "start_time = time.time()\n",
    "df_pandas = pd.DataFrame(data)\n",
    "# Simple operation: calculate a new column\n",
    "df_pandas[\"sum\"] = df_pandas[\"value1\"] + df_pandas[\"value2\"]\n",
    "print(f\"Pandas time: {time.time() - start_time:.2f} seconds\")"
   ]
  },
  {
   "cell_type": "code",
   "execution_count": 346,
   "id": "8286331e",
   "metadata": {},
   "outputs": [
    {
     "name": "stdout",
     "output_type": "stream",
     "text": [
      "Polars time: 0.03 seconds\n"
     ]
    }
   ],
   "source": [
    "start_time = time.time()\n",
    "df_polars = pl.DataFrame(data)\n",
    "# Same operation in Polars\n",
    "df_polars = df_polars.with_columns(\n",
    "    (pl.col(\"value1\") + pl.col(\"value2\")).alias(\"sum\")\n",
    ")\n",
    "print(f\"Polars time: {time.time() - start_time:.2f} seconds\")"
   ]
  },
  {
   "cell_type": "code",
   "execution_count": 347,
   "id": "253abf3c",
   "metadata": {},
   "outputs": [],
   "source": [
    "# Sample dataset (~1 million rows)\n",
    "url = \"https://people.sc.fsu.edu/~jburkardt/data/csv/hw_200.csv\""
   ]
  },
  {
   "cell_type": "code",
   "execution_count": 348,
   "id": "b6ea7479",
   "metadata": {},
   "outputs": [
    {
     "name": "stdout",
     "output_type": "stream",
     "text": [
      "Pandas read_csv time: 0.117 seconds\n"
     ]
    }
   ],
   "source": [
    "start_time = time.time()\n",
    "df_pandas = pd.read_csv(url)\n",
    "pandas_time = time.time() - start_time\n",
    "print(f\"Pandas read_csv time: {pandas_time:.3f} seconds\")"
   ]
  },
  {
   "cell_type": "code",
   "execution_count": 349,
   "id": "51c6bfb4",
   "metadata": {},
   "outputs": [
    {
     "name": "stdout",
     "output_type": "stream",
     "text": [
      "Polars read_csv time: 0.101 seconds\n"
     ]
    }
   ],
   "source": [
    "start_time = time.time()\n",
    "df_polars = pl.read_csv(url)\n",
    "polars_time = time.time() - start_time\n",
    "print(f\"Polars read_csv time: {polars_time:.3f} seconds\")"
   ]
  },
  {
   "cell_type": "code",
   "execution_count": 350,
   "id": "25845a26",
   "metadata": {},
   "outputs": [
    {
     "name": "stdout",
     "output_type": "stream",
     "text": [
      "\n",
      "✅ Polars was approximately 1.16x faster than Pandas.\n"
     ]
    }
   ],
   "source": [
    "speedup = pandas_time / polars_time\n",
    "print(f\"\\n✅ Polars was approximately {speedup:.2f}x faster than Pandas.\")"
   ]
  },
  {
   "cell_type": "code",
   "execution_count": 351,
   "id": "67970e7a",
   "metadata": {},
   "outputs": [
    {
     "name": "stdout",
     "output_type": "stream",
     "text": [
      "Reading with pandas...\n",
      "Pandas read time: 0.32 seconds\n",
      "\n",
      "Reading with polars...\n",
      "Polars read time: 0.09 seconds\n",
      "\n",
      "✅ Polars was approximately 3.42x faster than Pandas.\n"
     ]
    }
   ],
   "source": [
    "url = \"https://d37ci6vzurychx.cloudfront.net/trip-data/yellow_tripdata_2023-01.parquet\"\n",
    "filename = \"yellow_tripdata_2023-01.parquet\"\n",
    "\n",
    "# Download the file if it doesn't exist\n",
    "if not os.path.exists(filename):\n",
    "    print(f\"Downloading {filename}...\")\n",
    "    urllib.request.urlretrieve(url, filename)\n",
    "    print(\"Download complete.\")\n",
    "\n",
    "# Read with Pandas\n",
    "print(\"Reading with pandas...\")\n",
    "start_time = time.time()\n",
    "df_pandas = pd.read_parquet(filename)\n",
    "pandas_time = time.time() - start_time\n",
    "print(f\"Pandas read time: {pandas_time:.2f} seconds\")\n",
    "\n",
    "# Read with Polars\n",
    "print(\"\\nReading with polars...\")\n",
    "start_time = time.time()\n",
    "df_polars = pl.read_parquet(filename)\n",
    "polars_time = time.time() - start_time\n",
    "print(f\"Polars read time: {polars_time:.2f} seconds\")\n",
    "\n",
    "speedup = pandas_time / polars_time\n",
    "print(f\"\\n✅ Polars was approximately {speedup:.2f}x faster than Pandas.\")"
   ]
  }
 ],
 "metadata": {
  "kernelspec": {
   "display_name": "Python 3",
   "language": "python",
   "name": "python3"
  },
  "language_info": {
   "codemirror_mode": {
    "name": "ipython",
    "version": 3
   },
   "file_extension": ".py",
   "mimetype": "text/x-python",
   "name": "python",
   "nbconvert_exporter": "python",
   "pygments_lexer": "ipython3",
   "version": "3.13.1"
  }
 },
 "nbformat": 4,
 "nbformat_minor": 5
}
