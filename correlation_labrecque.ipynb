{
 "cells": [
  {
   "cell_type": "code",
   "execution_count": 1,
   "metadata": {},
   "outputs": [
    {
     "data": {
      "text/html": [
       "<div>\n",
       "<style scoped>\n",
       "    .dataframe tbody tr th:only-of-type {\n",
       "        vertical-align: middle;\n",
       "    }\n",
       "\n",
       "    .dataframe tbody tr th {\n",
       "        vertical-align: top;\n",
       "    }\n",
       "\n",
       "    .dataframe thead th {\n",
       "        text-align: right;\n",
       "    }\n",
       "</style>\n",
       "<table border=\"1\" class=\"dataframe\">\n",
       "  <thead>\n",
       "    <tr style=\"text-align: right;\">\n",
       "      <th></th>\n",
       "      <th>Ice Cream Sales (X)</th>\n",
       "      <th>Crime Rate (Y)</th>\n",
       "      <th>Temperature (Z)</th>\n",
       "    </tr>\n",
       "  </thead>\n",
       "  <tbody>\n",
       "    <tr>\n",
       "      <th>0</th>\n",
       "      <td>435.7</td>\n",
       "      <td>231.7</td>\n",
       "      <td>80.0</td>\n",
       "    </tr>\n",
       "    <tr>\n",
       "      <th>1</th>\n",
       "      <td>413.9</td>\n",
       "      <td>216.8</td>\n",
       "      <td>73.6</td>\n",
       "    </tr>\n",
       "    <tr>\n",
       "      <th>2</th>\n",
       "      <td>454.0</td>\n",
       "      <td>239.1</td>\n",
       "      <td>81.5</td>\n",
       "    </tr>\n",
       "    <tr>\n",
       "      <th>3</th>\n",
       "      <td>493.1</td>\n",
       "      <td>260.8</td>\n",
       "      <td>90.2</td>\n",
       "    </tr>\n",
       "    <tr>\n",
       "      <th>4</th>\n",
       "      <td>411.7</td>\n",
       "      <td>204.8</td>\n",
       "      <td>72.7</td>\n",
       "    </tr>\n",
       "  </tbody>\n",
       "</table>\n",
       "</div>"
      ],
      "text/plain": [
       "   Ice Cream Sales (X)  Crime Rate (Y)  Temperature (Z)\n",
       "0                435.7           231.7             80.0\n",
       "1                413.9           216.8             73.6\n",
       "2                454.0           239.1             81.5\n",
       "3                493.1           260.8             90.2\n",
       "4                411.7           204.8             72.7"
      ]
     },
     "execution_count": 1,
     "metadata": {},
     "output_type": "execute_result"
    }
   ],
   "source": [
    "# Creating the dataset and removing the dependency on the tools package\n",
    "import numpy as np\n",
    "import pandas as pd\n",
    "import statsmodels.api as sm\n",
    "from scipy.stats import pearsonr\n",
    "\n",
    "df =pd.read_csv(r\"C:\\Users\\Jason\\Downloads\\Dataset_1.csv\")\n",
    "df.head()"
   ]
  },
  {
   "cell_type": "code",
   "execution_count": 2,
   "metadata": {},
   "outputs": [
    {
     "name": "stdout",
     "output_type": "stream",
     "text": [
      "Pairwise Correlation between Ice Cream Sales and Temperature: 0.9777515090424782\n",
      "Pairwise Correlation between Crime Rate and Temperature: 0.9757827386492867\n",
      "Pairwise Correlation between Ice Cream Sales and Crime Rate: 0.9536713042519034\n",
      "Partial Correlation between Ice Cream Sales and Crime Rate: -0.008755437722279939\n"
     ]
    }
   ],
   "source": [
    "corr_ice_temp, _ = pearsonr(df[\"Ice Cream Sales (X)\"], df[\"Temperature (Z)\"])\n",
    "corr_crime_temp, _ = pearsonr(df[\"Crime Rate (Y)\"], df[\"Temperature (Z)\"])\n",
    "corr_ice_crime, _ = pearsonr(df[\"Ice Cream Sales (X)\"], df[\"Crime Rate (Y)\"])\n",
    "partial_corr_ice_crime = (corr_ice_crime - (corr_ice_temp* corr_crime_temp)) / (((1 - corr_ice_temp**2) * (1 - corr_crime_temp**2)) ** 0.5)\n",
    "print(f\"Pairwise Correlation between Ice Cream Sales and Temperature: {corr_ice_temp}\")\n",
    "print(f\"Pairwise Correlation between Crime Rate and Temperature: {corr_crime_temp}\")\n",
    "print(f\"Pairwise Correlation between Ice Cream Sales and Crime Rate: {corr_ice_crime}\")\n",
    "print(f\"Partial Correlation between Ice Cream Sales and Crime Rate: {partial_corr_ice_crime}\")\n"
   ]
  },
  {
   "cell_type": "markdown",
   "metadata": {},
   "source": [
    "From the high correlation coefficents, we can see that there is a great positive linear correlation between each of the variables. However, when looking at the partial correlation, we can see that, when controlling temperature, there is almost no correlation between Ice Cream Sales and Crime Rate. This suggests that Temperature is a confounding variables in the correlation between the other two."
   ]
  },
  {
   "cell_type": "code",
   "execution_count": 3,
   "metadata": {},
   "outputs": [
    {
     "data": {
      "text/html": [
       "<div>\n",
       "<style scoped>\n",
       "    .dataframe tbody tr th:only-of-type {\n",
       "        vertical-align: middle;\n",
       "    }\n",
       "\n",
       "    .dataframe tbody tr th {\n",
       "        vertical-align: top;\n",
       "    }\n",
       "\n",
       "    .dataframe thead th {\n",
       "        text-align: right;\n",
       "    }\n",
       "</style>\n",
       "<table border=\"1\" class=\"dataframe\">\n",
       "  <thead>\n",
       "    <tr style=\"text-align: right;\">\n",
       "      <th></th>\n",
       "      <th>Study Hours</th>\n",
       "      <th>Exam Score</th>\n",
       "      <th>Height</th>\n",
       "    </tr>\n",
       "  </thead>\n",
       "  <tbody>\n",
       "    <tr>\n",
       "      <th>0</th>\n",
       "      <td>48.58</td>\n",
       "      <td>87.43</td>\n",
       "      <td>88.66</td>\n",
       "    </tr>\n",
       "    <tr>\n",
       "      <th>1</th>\n",
       "      <td>70.57</td>\n",
       "      <td>129.96</td>\n",
       "      <td>65.19</td>\n",
       "    </tr>\n",
       "    <tr>\n",
       "      <th>2</th>\n",
       "      <td>52.83</td>\n",
       "      <td>95.31</td>\n",
       "      <td>69.23</td>\n",
       "    </tr>\n",
       "    <tr>\n",
       "      <th>3</th>\n",
       "      <td>63.30</td>\n",
       "      <td>122.92</td>\n",
       "      <td>76.86</td>\n",
       "    </tr>\n",
       "    <tr>\n",
       "      <th>4</th>\n",
       "      <td>48.45</td>\n",
       "      <td>99.71</td>\n",
       "      <td>71.04</td>\n",
       "    </tr>\n",
       "  </tbody>\n",
       "</table>\n",
       "</div>"
      ],
      "text/plain": [
       "   Study Hours  Exam Score  Height\n",
       "0        48.58       87.43   88.66\n",
       "1        70.57      129.96   65.19\n",
       "2        52.83       95.31   69.23\n",
       "3        63.30      122.92   76.86\n",
       "4        48.45       99.71   71.04"
      ]
     },
     "execution_count": 3,
     "metadata": {},
     "output_type": "execute_result"
    }
   ],
   "source": [
    "df =pd.read_csv(r\"C:\\Users\\Jason\\Downloads\\Dataset_2.csv\")\n",
    "df.head()"
   ]
  },
  {
   "cell_type": "code",
   "execution_count": 4,
   "metadata": {},
   "outputs": [
    {
     "name": "stdout",
     "output_type": "stream",
     "text": [
      "Pairwise Correlation between Study Hours and Height: 0.9777515090424782\n",
      "Pairwise Correlation between Exam Score and Height: 0.9757827386492867\n",
      "Pairwise Correlation between Study Hours and Exam Score: 0.9536713042519034\n",
      "Partial Correlation between Study Hours and Exam Score: 0.9581539049120376\n"
     ]
    }
   ],
   "source": [
    "corr_hours_height, _ = pearsonr(df[\"Study Hours\"], df[\"Height\"])\n",
    "corr_score_height, _ = pearsonr(df[\"Exam Score\"], df[\"Height\"])\n",
    "corr_hours_score, _ = pearsonr(df[\"Study Hours\"], df[\"Exam Score\"])\n",
    "partial_corr_hours_score = (corr_hours_score - (corr_hours_height* corr_score_height)) / (((1 - corr_hours_height**2) * (1 - corr_score_height**2)) ** 0.5)\n",
    "print(f\"Pairwise Correlation between Study Hours and Height: {corr_ice_temp}\")\n",
    "print(f\"Pairwise Correlation between Exam Score and Height: {corr_crime_temp}\")\n",
    "print(f\"Pairwise Correlation between Study Hours and Exam Score: {corr_ice_crime}\")\n",
    "print(f\"Partial Correlation between Study Hours and Exam Score: {partial_corr_hours_score}\")\n"
   ]
  },
  {
   "cell_type": "markdown",
   "metadata": {},
   "source": [
    "From the correlation coefficents, we can see a correlation a great positive between each of the three variables. Even when controlling for height, we can see that hieght is not a confounding variable, as the correlation remains high."
   ]
  }
 ],
 "metadata": {
  "kernelspec": {
   "display_name": "Python 3",
   "language": "python",
   "name": "python3"
  },
  "language_info": {
   "codemirror_mode": {
    "name": "ipython",
    "version": 3
   },
   "file_extension": ".py",
   "mimetype": "text/x-python",
   "name": "python",
   "nbconvert_exporter": "python",
   "pygments_lexer": "ipython3",
   "version": "3.13.1"
  }
 },
 "nbformat": 4,
 "nbformat_minor": 2
}
